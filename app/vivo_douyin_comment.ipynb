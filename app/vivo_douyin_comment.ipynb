{
 "cells": [
  {
   "cell_type": "code",
   "execution_count": 1,
   "metadata": {},
   "outputs": [],
   "source": [
    "import sys\n",
    "\n",
    "sys.path.append(\"..\")"
   ]
  },
  {
   "cell_type": "code",
   "execution_count": 2,
   "metadata": {},
   "outputs": [],
   "source": [
    "import pandas as pd\n",
    "\n",
    "from utils.timer import timer\n",
    "from utils.excels import each_row, save_excel"
   ]
  },
  {
   "cell_type": "code",
   "execution_count": 100,
   "metadata": {},
   "outputs": [],
   "source": [
    "import os\n",
    "\n",
    "Bytes_Per_Sec = 201953523 / 333.0\n",
    "\n",
    "@timer\n",
    "def read_excel(file, name=None, rows=None):\n",
    "    \"\"\"\n",
    "    读取Excel\n",
    "    \n",
    "    默认读取所有sheet, 可以指定\n",
    "    默认读取所有行, 可以指定: 指定小批量行数并不会节约时间\n",
    "    读取200MB约350s\n",
    "    \"\"\"\n",
    "    file_bytes = os.path.getsize(file)\n",
    "    print(\"predict cost: %.5fs\" % (file_bytes / Bytes_Per_Sec))\n",
    "    return pd.read_excel(file, nrows=rows, sheet_name=name)\n"
   ]
  },
  {
   "cell_type": "code",
   "execution_count": 12,
   "metadata": {},
   "outputs": [],
   "source": [
    "abs_path = '/Users/tobin/Downloads/douyin_20190519/target_video_comments/'\n"
   ]
  },
  {
   "cell_type": "markdown",
   "metadata": {},
   "source": [
    "## 用户处理"
   ]
  },
  {
   "cell_type": "code",
   "execution_count": 13,
   "metadata": {},
   "outputs": [
    {
     "name": "stdout",
     "output_type": "stream",
     "text": [
      "# start at 1559904886.35080\n",
      "# end at 1559904886.65185\n",
      "total cost: 0.30105\n",
      "(1389, 29)\n"
     ]
    }
   ],
   "source": [
    "user_file='VIVO抖音项目-用户信息-0606.xlsx'\n",
    "\n",
    "user_sheet = read_excel(abs_path + user_file, \"模板\")\n",
    "print(user_sheet.shape)"
   ]
  },
  {
   "cell_type": "code",
   "execution_count": 24,
   "metadata": {},
   "outputs": [
    {
     "name": "stdout",
     "output_type": "stream",
     "text": [
      "# start at 1559905217.90615\n",
      "current time: 1559905218.026327\n",
      "current idx: 1000\n",
      "# end at 1559905218.06156\n",
      "total cost: 0.15541\n"
     ]
    }
   ],
   "source": [
    "user_tags = {}\n",
    "\n",
    "def user_parser(idx, key, row):\n",
    "    user_tag = {}\n",
    "    \n",
    "    uid = row[\"uid\"]\n",
    "    name = row[\"user_name\"]\n",
    "    nick = row[\"register_id\"]\n",
    "    fans = row[\"fans_num\"]\n",
    "    \n",
    "    user_tag[\"uid\"] = uid\n",
    "    user_tag[\"name\"] = name\n",
    "    user_tag[\"fans\"] = fans\n",
    "    user_tag[\"register_id\"] = nick\n",
    "    \n",
    "    user_tags[uid] = user_tag\n",
    "    \n",
    "    return True\n",
    "    \n",
    "each_row(user_sheet, user_parser, 1000)"
   ]
  },
  {
   "cell_type": "code",
   "execution_count": 25,
   "metadata": {},
   "outputs": [
    {
     "name": "stdout",
     "output_type": "stream",
     "text": [
      "1389\n",
      "100003454600 {'uid': 100003454600, 'name': '极好金服', 'fans': 288797, 'register_id': 'jihaojinfu'}\n"
     ]
    }
   ],
   "source": [
    "print(len(user_tags))\n",
    "for k, v in user_tags.items():\n",
    "    print(k, v)\n",
    "    break"
   ]
  },
  {
   "cell_type": "markdown",
   "metadata": {},
   "source": [
    "## 视频处理"
   ]
  },
  {
   "cell_type": "code",
   "execution_count": 36,
   "metadata": {},
   "outputs": [
    {
     "name": "stdout",
     "output_type": "stream",
     "text": [
      "# start at 1559905903.46626\n",
      "# end at 1559905903.71271\n",
      "total cost: 0.24645\n",
      "(760, 30)\n"
     ]
    }
   ],
   "source": [
    "video_file = 'analysis_task_20190606230755_761_93_video.xlsx'\n",
    "\n",
    "video_sheet = read_excel(abs_path + video_file, \"sheet0\")\n",
    "print(video_sheet.shape)"
   ]
  },
  {
   "cell_type": "code",
   "execution_count": 107,
   "metadata": {
    "scrolled": false
   },
   "outputs": [
    {
     "name": "stdout",
     "output_type": "stream",
     "text": [
      "# start at 1559909366.56457\n",
      "predict cost: 0.02142s\n",
      "# end at 1559909366.57867\n",
      "total cost: 0.01410\n",
      "(56, 5)\n"
     ]
    }
   ],
   "source": [
    "brand_file = \"VIVO品牌码表.xlsx\"\n",
    "\n",
    "brand_sheet = read_excel(abs_path + brand_file, \"Sheet1\")\n",
    "print(brand_sheet.shape)"
   ]
  },
  {
   "cell_type": "code",
   "execution_count": 108,
   "metadata": {},
   "outputs": [
    {
     "name": "stdout",
     "output_type": "stream",
     "text": [
      "# start at 1559909368.03804\n",
      "# end at 1559909368.04514\n",
      "total cost: 0.00709\n",
      "6\n"
     ]
    }
   ],
   "source": [
    "brandKB = {}\n",
    "\n",
    "def brand_parser(idx, key, row):\n",
    "    brand_name = row['品牌'].strip()\n",
    "    if brand_name not in brandKB:\n",
    "        brandKB[brand_name] = set()\n",
    "    \n",
    "    if type(row['品牌产品']) is str:\n",
    "        brand_type_name = row['品牌产品'].strip()\n",
    "        if brand_type_name:\n",
    "            brandKB[brand_name].add(brand_type_name)\n",
    "    \n",
    "    brand_keyword_str = row['关键词'].strip()\n",
    "    if brand_keyword_str.startswith('#'):\n",
    "        brandKB[brand_name].add(brand_keyword_str)\n",
    "    else:\n",
    "        for kw in brand_keyword_str.split(','):\n",
    "            if type(kw) is str:\n",
    "                brandKB[brand_name].add(kw)\n",
    "    \n",
    "    return True\n",
    "                \n",
    "each_row(brand_sheet, brand_parser)\n",
    "print(len(brandKB))\n"
   ]
  },
  {
   "cell_type": "code",
   "execution_count": 109,
   "metadata": {},
   "outputs": [
    {
     "name": "stdout",
     "output_type": "stream",
     "text": [
      "VIVO\n",
      "华为\n",
      "VIVO\n",
      "None\n"
     ]
    }
   ],
   "source": [
    "def kw_match(content, keywords):\n",
    "    \"\"\"\n",
    "    关键词匹配\n",
    "    \"\"\"\n",
    "    for kw in keywords:\n",
    "        if kw in content:\n",
    "            return True\n",
    "    return False\n",
    "\n",
    "def brand_match(content, kb):\n",
    "    \"\"\"\n",
    "    品牌匹配\n",
    "    \"\"\"\n",
    "    for key, value in kb.items():\n",
    "        if kw_match(content, value):\n",
    "            return key\n",
    "    \n",
    "    return None\n",
    "\n",
    "# TEST CASE\n",
    "\n",
    "print(brand_match(\"vivo\", brandKB))\n",
    "print(brand_match(\"#我才是实力自拍王\", brandKB))\n",
    "print(brand_match(\"vivo\", brandKB))\n",
    "print(brand_match(\"#华为\", brandKB))"
   ]
  },
  {
   "cell_type": "code",
   "execution_count": 46,
   "metadata": {},
   "outputs": [],
   "source": [
    "import time\n",
    "\n",
    "def common_time_parse(origin):\n",
    "    \"\"\"\n",
    "    时间处理\n",
    "    \"\"\"\n",
    "    real_time = time.localtime() # 默认当前时间\n",
    "    if type(origin) is str and len(origin) == 19:\n",
    "        real_time = time.strptime(origin, \"%Y-%m-%d %H:%M:%S\")\n",
    "    elif len(str(origin)) == 14:\n",
    "        real_time = time.strptime(str(origin), \"%Y%m%d%H%M%S\")\n",
    "\n",
    "    return real_time\n",
    "\n",
    "# time.strftime(real_time, \"%Y-%m-%d %H:%M:%S\")"
   ]
  },
  {
   "cell_type": "code",
   "execution_count": 63,
   "metadata": {
    "scrolled": true
   },
   "outputs": [
    {
     "name": "stdout",
     "output_type": "stream",
     "text": [
      "# start at 1559907477.89940\n",
      "user not exist: 4173365255879406\n",
      "# end at 1559907478.07784\n",
      "total cost: 0.17844\n",
      "760\n"
     ]
    }
   ],
   "source": [
    "video_tags = {}\n",
    "\n",
    "def video_parser(idx, key, row):\n",
    "    video_tag = {}\n",
    "    \n",
    "    url = row['url']\n",
    "    vid = url.split('/')[5]\n",
    "    uid = row[\"user_item_id\"]\n",
    "    \n",
    "    publish_date = time.strftime(\"%Y-%m-%d %H:%M:%S\", common_time_parse(row[\"publish_date\"]))\n",
    "    title = row[\"title\"]\n",
    "    content = row['content']\n",
    "    brand = \"\"\n",
    "    if type(content) is str:\n",
    "        brand = brand_match(content, brandKB)\n",
    "        \n",
    "    video_tag[\"vid\"] = vid\n",
    "    video_tag[\"url\"] = url\n",
    "    video_tag[\"publish_date\"] = publish_date\n",
    "    video_tag[\"title\"] = title\n",
    "    video_tag[\"content\"] = content\n",
    "    video_tag[\"brand\"] = brand\n",
    "       \n",
    "    user_tag = {}\n",
    "    if uid in user_tags:\n",
    "        user_tag = user_tags[uid]\n",
    "    else:\n",
    "        print(\"user not exist: %s\" % uid)\n",
    "    for k, v in user_tag.items():\n",
    "        video_tag[\"user_\" + k] = v\n",
    "\n",
    "    video_tags[vid] = video_tag\n",
    "    return True\n",
    "    \n",
    "each_row(video_sheet, video_parser, 1000)\n",
    "print(len(video_tags))"
   ]
  },
  {
   "cell_type": "code",
   "execution_count": 66,
   "metadata": {
    "scrolled": true
   },
   "outputs": [
    {
     "name": "stdout",
     "output_type": "stream",
     "text": [
      "760\n",
      "6641823319651781896\n",
      "{'vid': '6641823319651781896', 'url': 'https://www.iesdouyin.com/share/video/6641823319651781896/?region=CN&mid=6641823330779269902&u_code=jdajj3e5&titleType=title', 'publish_date': '2019-01-02 17:06:39', 'title': '@海飞数码创作的原声', 'content': '目前拍照最好的十部手机，让我们大喊一句“国产牛逼”#手机 #华为 #欢脱喜提开门红', 'brand': None, 'user_uid': 74968768187, 'user_name': '海飞数码', 'user_fans': 1308577, 'user_register_id': '118900302'}\n"
     ]
    }
   ],
   "source": [
    "print(len(video_tags))\n",
    "for k, v in video_tags.items():\n",
    "    print(k)\n",
    "    print(v)\n",
    "    break"
   ]
  },
  {
   "cell_type": "markdown",
   "metadata": {},
   "source": [
    "## 评论处理\n",
    "\n"
   ]
  },
  {
   "cell_type": "code",
   "execution_count": 110,
   "metadata": {},
   "outputs": [
    {
     "name": "stdout",
     "output_type": "stream",
     "text": [
      "# start at 1559909400.11760\n",
      "predict cost: 333.00000s\n",
      "# end at 1559909690.41367\n",
      "total cost: 290.29607\n",
      "3\n"
     ]
    }
   ],
   "source": [
    "comment_file = 'analysis_task_20190606230755_761_93.xlsx'\n",
    "comment_all_sheet = read_excel(abs_path + comment_file)\n",
    "print(len(comment_all_sheet))"
   ]
  },
  {
   "cell_type": "markdown",
   "metadata": {},
   "source": [
    "> 安全隔离带"
   ]
  },
  {
   "cell_type": "code",
   "execution_count": 123,
   "metadata": {},
   "outputs": [],
   "source": [
    "current_sheet = \"sheet0\""
   ]
  },
  {
   "cell_type": "code",
   "execution_count": 127,
   "metadata": {
    "scrolled": true
   },
   "outputs": [
    {
     "name": "stdout",
     "output_type": "stream",
     "text": [
      "(500000, 23)\n",
      "# start at 1559911703.19655\n",
      "current time: 1559911705.338710\n",
      "current idx: 5000\n",
      "current time: 1559911705.820023\n",
      "current idx: 10000\n",
      "current time: 1559911706.284814\n",
      "current idx: 15000\n",
      "current time: 1559911706.750563\n",
      "current idx: 20000\n",
      "current time: 1559911707.215227\n",
      "current idx: 25000\n",
      "current time: 1559911707.727630\n",
      "current idx: 30000\n",
      "current time: 1559911708.203805\n",
      "current idx: 35000\n",
      "current time: 1559911708.730173\n",
      "current idx: 40000\n",
      "current time: 1559911709.242209\n",
      "current idx: 45000\n",
      "current time: 1559911709.722802\n",
      "current idx: 50000\n",
      "current time: 1559911710.251229\n",
      "current idx: 55000\n",
      "current time: 1559911710.773056\n",
      "current idx: 60000\n",
      "current time: 1559911711.291025\n",
      "current idx: 65000\n",
      "current time: 1559911711.794749\n",
      "current idx: 70000\n",
      "current time: 1559911712.286279\n",
      "current idx: 75000\n",
      "current time: 1559911712.767485\n",
      "current idx: 80000\n",
      "current time: 1559911713.241447\n",
      "current idx: 85000\n",
      "current time: 1559911713.693356\n",
      "current idx: 90000\n",
      "current time: 1559911714.150389\n",
      "current idx: 95000\n",
      "current time: 1559911714.619773\n",
      "current idx: 100000\n",
      "current time: 1559911715.076255\n",
      "current idx: 105000\n",
      "current time: 1559911715.543096\n",
      "current idx: 110000\n",
      "current time: 1559911716.000931\n",
      "current idx: 115000\n",
      "current time: 1559911716.463864\n",
      "current idx: 120000\n",
      "current time: 1559911716.978690\n",
      "current idx: 125000\n",
      "current time: 1559911717.488288\n",
      "current idx: 130000\n",
      "current time: 1559911718.005950\n",
      "current idx: 135000\n",
      "current time: 1559911718.514082\n",
      "current idx: 140000\n",
      "current time: 1559911719.035076\n",
      "current idx: 145000\n",
      "current time: 1559911719.518688\n",
      "current idx: 150000\n",
      "current time: 1559911720.020438\n",
      "current idx: 155000\n",
      "current time: 1559911720.507642\n",
      "current idx: 160000\n",
      "current time: 1559911721.043457\n",
      "current idx: 165000\n",
      "current time: 1559911721.559543\n",
      "current idx: 170000\n",
      "current time: 1559911722.022702\n",
      "current idx: 175000\n",
      "current time: 1559911722.502752\n",
      "current idx: 180000\n",
      "current time: 1559911722.954588\n",
      "current idx: 185000\n",
      "current time: 1559911723.431214\n",
      "current idx: 190000\n",
      "current time: 1559911723.916936\n",
      "current idx: 195000\n",
      "current time: 1559911724.388864\n",
      "current idx: 200000\n",
      "current time: 1559911724.858941\n",
      "current idx: 205000\n",
      "current time: 1559911725.329840\n",
      "current idx: 210000\n",
      "current time: 1559911725.804071\n",
      "current idx: 215000\n",
      "current time: 1559911726.278263\n",
      "current idx: 220000\n",
      "current time: 1559911726.749029\n",
      "current idx: 225000\n",
      "current time: 1559911727.218811\n",
      "current idx: 230000\n",
      "current time: 1559911727.692425\n",
      "current idx: 235000\n",
      "current time: 1559911728.168812\n",
      "current idx: 240000\n",
      "current time: 1559911728.639398\n",
      "current idx: 245000\n",
      "current time: 1559911729.104765\n",
      "current idx: 250000\n",
      "current time: 1559911729.572022\n",
      "current idx: 255000\n",
      "current time: 1559911730.039037\n",
      "current idx: 260000\n",
      "current time: 1559911730.497138\n",
      "current idx: 265000\n",
      "current time: 1559911730.956584\n",
      "current idx: 270000\n",
      "current time: 1559911731.430425\n",
      "current idx: 275000\n",
      "current time: 1559911731.905590\n",
      "current idx: 280000\n",
      "current time: 1559911732.357357\n",
      "current idx: 285000\n",
      "current time: 1559911732.828259\n",
      "current idx: 290000\n",
      "current time: 1559911733.275848\n",
      "current idx: 295000\n",
      "current time: 1559911733.729165\n",
      "current idx: 300000\n",
      "current time: 1559911734.175967\n",
      "current idx: 305000\n",
      "current time: 1559911734.624724\n",
      "current idx: 310000\n",
      "current time: 1559911735.073133\n",
      "current idx: 315000\n",
      "current time: 1559911735.526544\n",
      "current idx: 320000\n",
      "current time: 1559911735.978722\n",
      "current idx: 325000\n",
      "current time: 1559911736.428991\n",
      "current idx: 330000\n",
      "current time: 1559911736.884114\n",
      "current idx: 335000\n",
      "current time: 1559911737.334550\n",
      "current idx: 340000\n",
      "current time: 1559911737.783762\n",
      "current idx: 345000\n",
      "current time: 1559911738.233842\n",
      "current idx: 350000\n",
      "current time: 1559911738.693270\n",
      "current idx: 355000\n",
      "current time: 1559911739.146686\n",
      "current idx: 360000\n",
      "current time: 1559911739.603167\n",
      "current idx: 365000\n",
      "current time: 1559911740.070328\n",
      "current idx: 370000\n",
      "current time: 1559911740.520101\n",
      "current idx: 375000\n",
      "current time: 1559911740.974881\n",
      "current idx: 380000\n",
      "current time: 1559911741.450982\n",
      "current idx: 385000\n",
      "current time: 1559911741.898485\n",
      "current idx: 390000\n",
      "current time: 1559911742.360876\n",
      "current idx: 395000\n",
      "current time: 1559911742.823065\n",
      "current idx: 400000\n",
      "current time: 1559911743.275813\n",
      "current idx: 405000\n",
      "current time: 1559911743.732564\n",
      "current idx: 410000\n",
      "current time: 1559911744.195741\n",
      "current idx: 415000\n",
      "current time: 1559911744.645714\n",
      "current idx: 420000\n",
      "current time: 1559911745.104218\n",
      "current idx: 425000\n",
      "current time: 1559911745.557744\n",
      "current idx: 430000\n",
      "current time: 1559911746.010451\n",
      "current idx: 435000\n",
      "current time: 1559911746.462663\n",
      "current idx: 440000\n",
      "current time: 1559911746.939250\n",
      "current idx: 445000\n",
      "current time: 1559911747.397609\n",
      "current idx: 450000\n",
      "current time: 1559911747.848587\n",
      "current idx: 455000\n",
      "current time: 1559911748.295943\n",
      "current idx: 460000\n",
      "current time: 1559911748.746185\n",
      "current idx: 465000\n",
      "current time: 1559911749.208225\n",
      "current idx: 470000\n",
      "current time: 1559911749.659275\n",
      "current idx: 475000\n",
      "current time: 1559911750.108527\n",
      "current idx: 480000\n",
      "current time: 1559911750.559087\n",
      "current idx: 485000\n",
      "current time: 1559911751.011028\n",
      "current idx: 490000\n",
      "current time: 1559911751.465269\n",
      "current idx: 495000\n",
      "current time: 1559911751.921403\n",
      "current idx: 500000\n",
      "# end at 1559911752.01158\n",
      "total cost: 48.81503\n",
      "0\n",
      "0\n"
     ]
    }
   ],
   "source": [
    "comment_test_sheet = comment_all_sheet[current_sheet]\n",
    "print(comment_test_sheet.shape)\n",
    "\n",
    "comment_tags = {}\n",
    "comment_infos = {}\n",
    "def comment_parser(idx, key, row):\n",
    "    comment_tag = {}\n",
    "    \n",
    "    cid = row[\"comment_id\"]\n",
    "    url = row[\"url\"]\n",
    "    vid = url.split('/')[5]\n",
    "    \n",
    "    publish_date = time.strftime(\"%Y-%m-%d %H:%M:%S\", common_time_parse(row[\"publish_date\"]))\n",
    "    \n",
    "    comment_tag[\"new_publish_date\"] = publish_date\n",
    "    comment_tag[\"new_vid\"] = vid\n",
    "    \n",
    "    video_tag = {}\n",
    "    if vid in video_tags:\n",
    "        video_tag = video_tags[vid]\n",
    "    else:\n",
    "        print(\"video not exist: %d\" % vid)\n",
    "    for k, v in video_tag.items():\n",
    "        comment_tag[\"video_\" + k] = v\n",
    "        \n",
    "#     comment_tags[cid] = comment_tag\n",
    "#     comment_infos[cid] = row\n",
    "    \n",
    "    return True\n",
    "    \n",
    "each_row(comment_test_sheet, comment_parser, 5000)\n",
    "\n",
    "print(len(comment_tags))\n",
    "# print(comment_tags)\n",
    "print(len(comment_infos))\n",
    "# print(comment_infos)\n",
    "\n",
    "# chunksize=4, csv才有"
   ]
  },
  {
   "cell_type": "code",
   "execution_count": null,
   "metadata": {},
   "outputs": [],
   "source": [
    "print(len(comment_tags))\n",
    "for k, v in comment_tags.items():\n",
    "    print(k)\n",
    "    print(v)\n",
    "    break\n",
    "print(len(comment_infos))\n",
    "for k, v in comment_infos.itmes():\n",
    "    print(k)\n",
    "    print(v)\n",
    "    break"
   ]
  },
  {
   "cell_type": "code",
   "execution_count": null,
   "metadata": {},
   "outputs": [],
   "source": [
    "comment_infos_df = pd.DataFrame(comment_infos)\n",
    "comment_tags_df = pd.DataFrame(comment_tags)\n",
    "\n",
    "comment_df = pd.concat([comment_infos_df, comment_tags_df], axis=0)\n",
    "\n",
    "print(comment_infos_df.shape)\n",
    "print(comment_tags_df.shape)\n",
    "print(comment_df.shape)"
   ]
  },
  {
   "cell_type": "code",
   "execution_count": null,
   "metadata": {},
   "outputs": [],
   "source": []
  },
  {
   "cell_type": "code",
   "execution_count": null,
   "metadata": {},
   "outputs": [],
   "source": [
    "save_excel(comment_df.T, abs_path + \"comment-\" + current_sheet + \".xlsx\")"
   ]
  },
  {
   "cell_type": "code",
   "execution_count": null,
   "metadata": {},
   "outputs": [],
   "source": []
  }
 ],
 "metadata": {
  "kernelspec": {
   "display_name": "Python 3",
   "language": "python",
   "name": "python3"
  },
  "language_info": {
   "codemirror_mode": {
    "name": "ipython",
    "version": 3
   },
   "file_extension": ".py",
   "mimetype": "text/x-python",
   "name": "python",
   "nbconvert_exporter": "python",
   "pygments_lexer": "ipython3",
   "version": "3.7.0"
  }
 },
 "nbformat": 4,
 "nbformat_minor": 2
}
