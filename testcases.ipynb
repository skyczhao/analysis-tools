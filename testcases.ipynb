{
 "cells": [
  {
   "cell_type": "markdown",
   "metadata": {},
   "source": [
    "# utils"
   ]
  },
  {
   "cell_type": "markdown",
   "metadata": {},
   "source": [
    "## excels\n",
    "> excel工具类"
   ]
  },
  {
   "cell_type": "code",
   "execution_count": 1,
   "metadata": {},
   "outputs": [],
   "source": [
    "from utils.excels import save_excel"
   ]
  },
  {
   "cell_type": "code",
   "execution_count": 2,
   "metadata": {},
   "outputs": [
    {
     "name": "stdout",
     "output_type": "stream",
     "text": [
      "# start at 1559668529.11158\n",
      "save size: (1, 2)\n",
      "# end at 1559668529.16523\n",
      "total cost: 0.05365\n"
     ]
    }
   ],
   "source": [
    "import pandas as pd\n",
    "\n",
    "inner_dict = {\"name\": \"tobin\", \"id\": 123}\n",
    "test_dict = {123: inner_dict}\n",
    "\n",
    "test_df = pd.DataFrame(test_dict)\n",
    "save_excel(test_df.T, \"/Users/tobin/Documents/Programs/datastory/tools/test_save_excel.xlsx\")"
   ]
  },
  {
   "cell_type": "code",
   "execution_count": 3,
   "metadata": {},
   "outputs": [],
   "source": [
    "from utils.excels import each_row"
   ]
  },
  {
   "cell_type": "code",
   "execution_count": 4,
   "metadata": {},
   "outputs": [],
   "source": [
    "topic_user_file='/Users/tobin/Documents/Programs/datastory/tools/analysis_task_20190604193137_956_58.xlsx'\n",
    "topic_user_sheet = pd.read_excel(topic_user_file, sheet_name='模板')"
   ]
  },
  {
   "cell_type": "code",
   "execution_count": 9,
   "metadata": {},
   "outputs": [
    {
     "name": "stdout",
     "output_type": "stream",
     "text": [
      "# start at 1559668744.59189\n",
      "current time: 1559668744.696231\n",
      "current idx: 1000\n",
      "current time: 1559668744.757088\n",
      "current idx: 2000\n",
      "current time: 1559668744.821700\n",
      "current idx: 3000\n",
      "current time: 1559668744.927420\n",
      "current idx: 4000\n",
      "current time: 1559668744.983626\n",
      "current idx: 5000\n",
      "# end at 1559668745.00677\n",
      "total cost: 0.41488\n"
     ]
    }
   ],
   "source": [
    "\n",
    "topic_user_infos = {}\n",
    "def user_parser(idx, key, row):\n",
    "    uid = row['uid']\n",
    "    topic_user_infos[uid] = row\n",
    "    \n",
    "    return True\n",
    "\n",
    "each_row(topic_user_sheet, user_parser, 1000)"
   ]
  },
  {
   "cell_type": "code",
   "execution_count": 10,
   "metadata": {},
   "outputs": [
    {
     "name": "stdout",
     "output_type": "stream",
     "text": [
      "5446\n"
     ]
    }
   ],
   "source": [
    "print(len(topic_user_infos))"
   ]
  },
  {
   "cell_type": "code",
   "execution_count": null,
   "metadata": {},
   "outputs": [],
   "source": []
  }
 ],
 "metadata": {
  "kernelspec": {
   "display_name": "Python 3",
   "language": "python",
   "name": "python3"
  },
  "language_info": {
   "codemirror_mode": {
    "name": "ipython",
    "version": 3
   },
   "file_extension": ".py",
   "mimetype": "text/x-python",
   "name": "python",
   "nbconvert_exporter": "python",
   "pygments_lexer": "ipython3",
   "version": "3.7.0"
  }
 },
 "nbformat": 4,
 "nbformat_minor": 2
}
