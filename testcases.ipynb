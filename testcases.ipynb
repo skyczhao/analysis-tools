{
 "cells": [
  {
   "cell_type": "markdown",
   "metadata": {},
   "source": [
    "# utils"
   ]
  },
  {
   "cell_type": "markdown",
   "metadata": {},
   "source": [
    "## excels\n",
    "> excel工具类"
   ]
  },
  {
   "cell_type": "code",
   "execution_count": 1,
   "metadata": {},
   "outputs": [],
   "source": [
    "from utils.excels import save_excel"
   ]
  },
  {
   "cell_type": "code",
   "execution_count": 2,
   "metadata": {},
   "outputs": [
    {
     "name": "stdout",
     "output_type": "stream",
     "text": [
      "# start at 1559668529.11158\n",
      "save size: (1, 2)\n",
      "# end at 1559668529.16523\n",
      "total cost: 0.05365\n"
     ]
    }
   ],
   "source": [
    "import pandas as pd\n",
    "\n",
    "inner_dict = {\"name\": \"tobin\", \"id\": 123}\n",
    "test_dict = {123: inner_dict}\n",
    "\n",
    "test_df = pd.DataFrame(test_dict)\n",
    "save_excel(test_df.T, \"/Users/tobin/Documents/Programs/datastory/tools/test_save_excel.xlsx\")"
   ]
  },
  {
   "cell_type": "code",
   "execution_count": 3,
   "metadata": {},
   "outputs": [],
   "source": [
    "from utils.excels import each_row"
   ]
  },
  {
   "cell_type": "code",
   "execution_count": 4,
   "metadata": {},
   "outputs": [],
   "source": [
    "topic_user_file='/Users/tobin/Documents/Programs/datastory/tools/analysis_task_20190604193137_956_58.xlsx'\n",
    "topic_user_sheet = pd.read_excel(topic_user_file, sheet_name='模板')"
   ]
  },
  {
   "cell_type": "code",
   "execution_count": 9,
   "metadata": {},
   "outputs": [
    {
     "name": "stdout",
     "output_type": "stream",
     "text": [
      "# start at 1559668744.59189\n",
      "current time: 1559668744.696231\n",
      "current idx: 1000\n",
      "current time: 1559668744.757088\n",
      "current idx: 2000\n",
      "current time: 1559668744.821700\n",
      "current idx: 3000\n",
      "current time: 1559668744.927420\n",
      "current idx: 4000\n",
      "current time: 1559668744.983626\n",
      "current idx: 5000\n",
      "# end at 1559668745.00677\n",
      "total cost: 0.41488\n"
     ]
    }
   ],
   "source": [
    "\n",
    "topic_user_infos = {}\n",
    "def user_parser(idx, key, row):\n",
    "    uid = row['uid']\n",
    "    topic_user_infos[uid] = row\n",
    "    \n",
    "    return True\n",
    "\n",
    "each_row(topic_user_sheet, user_parser, 1000)"
   ]
  },
  {
   "cell_type": "code",
   "execution_count": 10,
   "metadata": {},
   "outputs": [
    {
     "name": "stdout",
     "output_type": "stream",
     "text": [
      "5446\n"
     ]
    }
   ],
   "source": [
    "print(len(topic_user_infos))"
   ]
  },
  {
   "cell_type": "code",
   "execution_count": null,
   "metadata": {},
   "outputs": [],
   "source": []
  },
  {
   "cell_type": "markdown",
   "metadata": {},
   "source": [
    "## elasticsearchs"
   ]
  },
  {
   "cell_type": "markdown",
   "metadata": {},
   "source": [
    "> ES操作工具类"
   ]
  },
  {
   "cell_type": "code",
   "execution_count": 1,
   "metadata": {},
   "outputs": [],
   "source": [
    "from elasticsearch import Elasticsearch\n",
    "\n",
    "proj_es_17 = Elasticsearch([{'host':'proj1', 'port':9200}])"
   ]
  },
  {
   "cell_type": "markdown",
   "metadata": {},
   "source": [
    "1. 索引操作"
   ]
  },
  {
   "cell_type": "code",
   "execution_count": 2,
   "metadata": {},
   "outputs": [],
   "source": [
    "from utils.elasticsearchs import create_index, delete_index"
   ]
  },
  {
   "cell_type": "code",
   "execution_count": 3,
   "metadata": {},
   "outputs": [],
   "source": [
    "index = \"py-index-v7\""
   ]
  },
  {
   "cell_type": "code",
   "execution_count": 5,
   "metadata": {},
   "outputs": [],
   "source": [
    "# print(delete_index(proj_es_17, index))"
   ]
  },
  {
   "cell_type": "code",
   "execution_count": 6,
   "metadata": {},
   "outputs": [],
   "source": [
    "fields = [\n",
    "    \"id|short\",\n",
    "    \"name|string|words\",\n",
    "    \"desc|string|not_analyzed\",\n",
    "    \"card_num|long\"\n",
    "]\n",
    "doc_type = \"student\""
   ]
  },
  {
   "cell_type": "code",
   "execution_count": 7,
   "metadata": {},
   "outputs": [
    {
     "name": "stdout",
     "output_type": "stream",
     "text": [
      "index body: {\n",
      "  \"mappings\": {\n",
      "    \"student\": {\n",
      "      \"dynamic\": \"strict\",\n",
      "      \"properties\": {\n",
      "        \"card_num\": {\n",
      "          \"type\": \"long\"\n",
      "        },\n",
      "        \"desc\": {\n",
      "          \"doc_values\": true,\n",
      "          \"index\": \"not_analyzed\",\n",
      "          \"type\": \"string\"\n",
      "        },\n",
      "        \"id\": {\n",
      "          \"type\": \"short\"\n",
      "        },\n",
      "        \"name\": {\n",
      "          \"analyzer\": \"words\",\n",
      "          \"type\": \"string\"\n",
      "        }\n",
      "      }\n",
      "    }\n",
      "  },\n",
      "  \"settings\": {\n",
      "    \"number_of_replica\": 1,\n",
      "    \"number_of_shards\": 5\n",
      "  }\n",
      "}\n",
      "None\n"
     ]
    }
   ],
   "source": [
    "print(create_index(proj_es_17, index, doc_type, fields))"
   ]
  },
  {
   "cell_type": "markdown",
   "metadata": {},
   "source": [
    "2. 数据操作"
   ]
  },
  {
   "cell_type": "code",
   "execution_count": 8,
   "metadata": {},
   "outputs": [],
   "source": [
    "from utils.elasticsearchs import insert_one, insert_bulk"
   ]
  },
  {
   "cell_type": "code",
   "execution_count": 9,
   "metadata": {},
   "outputs": [
    {
     "name": "stdout",
     "output_type": "stream",
     "text": [
      "{'_index': 'py-index-v7', '_type': 'student', '_id': '587', '_version': 1, 'created': True}\n"
     ]
    }
   ],
   "source": [
    "data_one = {\n",
    "    \"id\": 587,\n",
    "    \"name\": \"张高峰\",\n",
    "    \"desc\": \"任意用于测试不分词字段\",\n",
    "    \"card_num\": 8755427754613\n",
    "}\n",
    "\n",
    "print(insert_one(proj_es_17, index, doc_type, 587, data_one))"
   ]
  },
  {
   "cell_type": "code",
   "execution_count": 10,
   "metadata": {},
   "outputs": [
    {
     "name": "stdout",
     "output_type": "stream",
     "text": [
      "13\n"
     ]
    }
   ],
   "source": [
    "data_bulk = {}\n",
    "for i in range(13):\n",
    "    temp = {\n",
    "        \"id\": 587 + i,\n",
    "        \"name\": \"张高峰_%d\" % i,\n",
    "        \"desc\": \"任意用于测试不分词字段\",\n",
    "        \"card_num\": 8755427754613 * i\n",
    "    }\n",
    "    if i == 10:\n",
    "        temp[\"card\"] = \"故意检查动态字段问题\"\n",
    "\n",
    "    data_bulk[i + 1] = temp\n",
    "    \n",
    "print(len(data_bulk))"
   ]
  },
  {
   "cell_type": "code",
   "execution_count": 11,
   "metadata": {},
   "outputs": [
    {
     "name": "stdout",
     "output_type": "stream",
     "text": [
      "action size: 13\n"
     ]
    }
   ],
   "source": [
    "success, info = insert_bulk(proj_es_17, index, doc_type, data_bulk)"
   ]
  },
  {
   "cell_type": "code",
   "execution_count": 12,
   "metadata": {
    "scrolled": true
   },
   "outputs": [
    {
     "name": "stdout",
     "output_type": "stream",
     "text": [
      "12\n",
      "[{'index': {'_index': 'py-index-v7', '_type': 'student', '_id': '11', 'status': 400, 'error': 'StrictDynamicMappingException[mapping set to strict, dynamic introduction of [card] within [student] is not allowed]'}}]\n"
     ]
    }
   ],
   "source": [
    "print(success)\n",
    "print(info)"
   ]
  },
  {
   "cell_type": "code",
   "execution_count": null,
   "metadata": {},
   "outputs": [],
   "source": []
  },
  {
   "cell_type": "markdown",
   "metadata": {},
   "source": [
    "3. 查询数据"
   ]
  },
  {
   "cell_type": "code",
   "execution_count": 1,
   "metadata": {},
   "outputs": [],
   "source": [
    "import elasticsearch2\n",
    "\n",
    "# 低版本查询专用client\n",
    "proj_es_17 = elasticsearch2.Elasticsearch([{'host':'proj1', 'port':9200}], timeout=300)"
   ]
  },
  {
   "cell_type": "code",
   "execution_count": 2,
   "metadata": {},
   "outputs": [],
   "source": [
    "from utils.elasticsearchs import scroll_parse"
   ]
  },
  {
   "cell_type": "code",
   "execution_count": 3,
   "metadata": {},
   "outputs": [],
   "source": [
    "query = {\n",
    "  \"query\": {\n",
    "    \"query_string\": {\n",
    "      \"default_field\": \"0104dazhong-v1.country\",\n",
    "      \"query\": \"singapore\"\n",
    "    }\n",
    "  }\n",
    "}\n",
    "\n",
    "es_index = \"0104dazhong-v1\"\n",
    "es_type = \"0104dazhong-v1\""
   ]
  },
  {
   "cell_type": "code",
   "execution_count": 4,
   "metadata": {},
   "outputs": [
    {
     "name": "stdout",
     "output_type": "stream",
     "text": [
      "# start at 1559986569.76067\n",
      "parsing: 0104dazhong-v1/0104dazhong-v1, batch size: 5, query: {\n",
      "  \"query\": {\n",
      "    \"query_string\": {\n",
      "      \"default_field\": \"0104dazhong-v1.country\",\n",
      "      \"query\": \"singapore\"\n",
      "    }\n",
      "  }\n",
      "}\n",
      "# current size: 30, progress: 30/749. At 1559986571.19044\n",
      "# current size: 30, progress: 60/749. At 1559986572.92418\n",
      "# current size: 30, progress: 90/749. At 1559986575.55932\n",
      "# current size: 30, progress: 120/749. At 1559986578.15276\n",
      "# current size: 30, progress: 150/749. At 1559986581.48203\n",
      "# current size: 30, progress: 180/749. At 1559986584.75984\n",
      "# current size: 30, progress: 210/749. At 1559986587.51502\n",
      "# current size: 30, progress: 240/749. At 1559986589.36428\n",
      "# current size: 30, progress: 270/749. At 1559986594.58723\n",
      "# current size: 30, progress: 300/749. At 1559986599.91467\n",
      "# current size: 30, progress: 330/749. At 1559986602.28495\n",
      "# current size: 30, progress: 360/749. At 1559986606.67221\n",
      "# current size: 30, progress: 390/749. At 1559986608.31394\n",
      "# current size: 30, progress: 420/749. At 1559986611.79411\n",
      "# current size: 30, progress: 450/749. At 1559986614.04552\n",
      "# current size: 30, progress: 480/749. At 1559986617.93738\n",
      "# current size: 30, progress: 510/749. At 1559986620.15688\n",
      "# current size: 30, progress: 540/749. At 1559986621.51579\n",
      "# current size: 30, progress: 570/749. At 1559986623.50625\n",
      "# current size: 30, progress: 600/749. At 1559986628.59898\n",
      "# current size: 30, progress: 630/749. At 1559986635.30907\n",
      "# current size: 30, progress: 660/749. At 1559986636.94027\n",
      "# current size: 28, progress: 688/749. At 1559986640.87232\n",
      "# current size: 22, progress: 710/749. At 1559986642.10881\n",
      "# current size: 16, progress: 726/749. At 1559986643.19435\n",
      "# current size: 10, progress: 736/749. At 1559986657.05266\n",
      "# current size: 10, progress: 746/749. At 1559986657.58799\n",
      "# current size: 3, progress: 749/749. At 1559986657.81993\n",
      "# current size: 0, progress: 749/749. At 1559986657.97221\n",
      "# end at 1559986657.97221\n",
      "total cost: 88.21154\n"
     ]
    },
    {
     "data": {
      "text/plain": [
       "True"
      ]
     },
     "execution_count": 4,
     "metadata": {},
     "output_type": "execute_result"
    }
   ],
   "source": [
    "total_rows = {}\n",
    "\n",
    "def row_parser(idx, key, value):\n",
    "#     print(idx)\n",
    "    total_rows[key] = value[\"_source\"]\n",
    "    return True\n",
    "    \n",
    "scroll_parse(proj_es_17, es_index, es_type, query, row_parser)"
   ]
  },
  {
   "cell_type": "code",
   "execution_count": 6,
   "metadata": {},
   "outputs": [
    {
     "name": "stdout",
     "output_type": "stream",
     "text": [
      "749\n",
      "{'country': 'Singapore', 'hasTakeaway': False, 'avgPrice': 200.0, 'rating': 5.0, 'telephones': ['+65-65601249'], 'lon': '103.84493759999998', 'cityId': '2311', 'geoPoint': {'lon': 103.84493759999998, 'lat': 1.281938}, 'title': '可楽伴手礼', 'honorCommentCount': 0, 'enviRating': 9.2, 'servRating': 9.2, 'lastCommentDate': '2018-10-08 12:37:07', 'qualRating': 9.0, 'branchTitle': '牛车水店', 'idVerified': False, 'state': 'Central', 'lat': '1.281938', 'recommendDishes': [{'name': '黄金凤梨球', 'value': 29}, {'name': '传统凤梨挞', 'value': 16}, {'name': '黄梨塔', 'value': 8}, {'name': '山王榴莲蛋糕卷', 'value': 7}, {'name': '抹茶凤梨球', 'value': 4}, {'name': '班蓝蛋糕', 'value': 4}, {'name': '杏仁饼干', 'value': 2}, {'name': '千层蛋糕', 'value': 2}, {'name': '虾米卷', 'value': 1}, {'name': '样品', 'value': 0}, {'name': 'cookies', 'value': 0}, {'name': '翡翠凤梨球', 'value': 0}], 'hasBooking': False, 'tags-inner': '服务热情,味道赞,性价比高,价格实惠,点心好', 'address': '2 Smith St Singapore 058917 Smith St, Singapore 058917', 'cityPinyin': 'singapore', 'catName2': '面包甜点', 'catName1': '美食', 'catPathKey': '美食', 'ratingCount': 72, 'url': 'http://www.dianping.com/shop/92446699', 'commentCount': 72, 'coverUrl': 'http://qcloud.dpfile.com/pc/WH-keXPTeQhxs0z7bd8aSeyaUqT9YB3zfUIg2JJr7NbV8IcW7pqDfbeFWHI9d-kvJ-0BTbjj60XOL1huyULDDVEuLYk00OmSS1IdNpm8K8twhW7bzr4O88Ivp4FuDG0SfCF2ubeXzk49OsGrXt_KYDCngOyCwZK-s3fqawWswzk.jpg', 'isChainStore': True, 'imageUrls': ['http://qcloud.dpfile.com/pc/WH-keXPTeQhxs0z7bd8aSeyaUqT9YB3zfUIg2JJr7NbV8IcW7pqDfbeFWHI9d-kvJ-0BTbjj60XOL1huyULDDVEuLYk00OmSS1IdNpm8K8twhW7bzr4O88Ivp4FuDG0SfCF2ubeXzk49OsGrXt_KYDCngOyCwZK-s3fqawWswzk.jpg'], 'goodTagDist': [{'value': 26.0, 'key': '服务热情'}, {'value': 15.0, 'key': '味道赞'}, {'value': 11.0, 'key': '性价比高'}, {'value': 7.0, 'key': '价格实惠'}, {'value': 3.0, 'key': '点心好'}], 'ratingDist': [{'value': 0.0, 'key': '1'}, {'value': 0.0, 'key': '2'}, {'value': 0.0, 'key': '3'}, {'value': 0.0, 'key': '4'}, {'value': 0.0, 'key': '5'}], 'catId1': '10', 'catId2': '117', 'isShutdown': False}\n"
     ]
    }
   ],
   "source": [
    "print(len(total_rows))\n",
    "print(total_rows['92446699'])"
   ]
  },
  {
   "cell_type": "code",
   "execution_count": null,
   "metadata": {},
   "outputs": [],
   "source": []
  },
  {
   "cell_type": "markdown",
   "metadata": {},
   "source": [
    "## Log"
   ]
  },
  {
   "cell_type": "code",
   "execution_count": 1,
   "metadata": {},
   "outputs": [
    {
     "name": "stdout",
     "output_type": "stream",
     "text": [
      "LOG DIR: C:\\Users\\Evi\\logs\\analysis-tools\\parrot.log\n"
     ]
    }
   ],
   "source": [
    "from utils import Log"
   ]
  },
  {
   "cell_type": "code",
   "execution_count": 2,
   "metadata": {
    "scrolled": true
   },
   "outputs": [
    {
     "name": "stderr",
     "output_type": "stream",
     "text": [
      "2019-06-08 13:28:28,815 INFO (testcases) messages\n"
     ]
    }
   ],
   "source": [
    "Log.info(\"testcases\", \"messages\")"
   ]
  },
  {
   "cell_type": "markdown",
   "metadata": {},
   "source": [
    "## dicts"
   ]
  },
  {
   "cell_type": "code",
   "execution_count": 3,
   "metadata": {},
   "outputs": [],
   "source": [
    "from utils import dicts"
   ]
  },
  {
   "cell_type": "code",
   "execution_count": 5,
   "metadata": {
    "scrolled": true
   },
   "outputs": [
    {
     "name": "stdout",
     "output_type": "stream",
     "text": [
      "{'word': 3}\n",
      "{'word': 5}\n",
      "{'word': 6}\n"
     ]
    }
   ],
   "source": [
    "counter = {}\n",
    "dicts.add(counter, \"word\", 3)\n",
    "print(counter)\n",
    "dicts.add(counter, \"word\", 2)\n",
    "print(counter)\n",
    "dicts.add(counter, \"word\", 1)\n",
    "print(counter)\n"
   ]
  },
  {
   "cell_type": "markdown",
   "metadata": {},
   "source": [
    "## regexs"
   ]
  },
  {
   "cell_type": "code",
   "execution_count": 1,
   "metadata": {},
   "outputs": [],
   "source": [
    "from utils import regexs"
   ]
  },
  {
   "cell_type": "code",
   "execution_count": 2,
   "metadata": {},
   "outputs": [
    {
     "data": {
      "text/plain": [
       "['SRE_MATCH_TYPE',\n",
       " '__builtins__',\n",
       " '__cached__',\n",
       " '__doc__',\n",
       " '__file__',\n",
       " '__loader__',\n",
       " '__name__',\n",
       " '__package__',\n",
       " '__spec__',\n",
       " 'chinese2digits',\n",
       " 'chineseNumRegex',\n",
       " 'chineseNumRegexRules',\n",
       " 'convertChineseNum',\n",
       " 'numeralMap',\n",
       " 're']"
      ]
     },
     "execution_count": 2,
     "metadata": {},
     "output_type": "execute_result"
    }
   ],
   "source": [
    "dir(regexs)"
   ]
  },
  {
   "cell_type": "code",
   "execution_count": 3,
   "metadata": {},
   "outputs": [
    {
     "name": "stdout",
     "output_type": "stream",
     "text": [
      "13.0\n",
      "12.0稻\n",
      "13000.0稻\n"
     ]
    }
   ],
   "source": [
    "print(regexs.chinese2digits(u\"十三\"))\n",
    "print(regexs.convertChineseNum(u\"十二稻\"))\n",
    "print(regexs.convertChineseNum(u\"一万三稻\"))"
   ]
  },
  {
   "cell_type": "markdown",
   "metadata": {},
   "source": [
    "## strings"
   ]
  },
  {
   "cell_type": "code",
   "execution_count": 7,
   "metadata": {},
   "outputs": [],
   "source": [
    "from utils import strings"
   ]
  },
  {
   "cell_type": "code",
   "execution_count": 8,
   "metadata": {},
   "outputs": [
    {
     "name": "stdout",
     "output_type": "stream",
     "text": [
      "('%s,%s,%s', ['id', 'name', 'age'])\n"
     ]
    }
   ],
   "source": [
    "print(strings.stack_values([\"id\", \"name\", \"age\"]))"
   ]
  },
  {
   "cell_type": "code",
   "execution_count": null,
   "metadata": {},
   "outputs": [],
   "source": []
  }
 ],
 "metadata": {
  "kernelspec": {
   "display_name": "Python 3",
   "language": "python",
   "name": "python3"
  },
  "language_info": {
   "codemirror_mode": {
    "name": "ipython",
    "version": 3
   },
   "file_extension": ".py",
   "mimetype": "text/x-python",
   "name": "python",
   "nbconvert_exporter": "python",
   "pygments_lexer": "ipython3",
   "version": "3.7.3"
  }
 },
 "nbformat": 4,
 "nbformat_minor": 2
}
