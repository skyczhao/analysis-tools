{
 "cells": [
  {
   "cell_type": "markdown",
   "metadata": {},
   "source": [
    "# utils"
   ]
  },
  {
   "cell_type": "markdown",
   "metadata": {},
   "source": [
    "## excels\n",
    "> excel工具类"
   ]
  },
  {
   "cell_type": "code",
   "execution_count": 1,
   "metadata": {},
   "outputs": [],
   "source": [
    "from utils.excels import save_excel"
   ]
  },
  {
   "cell_type": "code",
   "execution_count": 2,
   "metadata": {},
   "outputs": [
    {
     "name": "stdout",
     "output_type": "stream",
     "text": [
      "# start at 1559668529.11158\n",
      "save size: (1, 2)\n",
      "# end at 1559668529.16523\n",
      "total cost: 0.05365\n"
     ]
    }
   ],
   "source": [
    "import pandas as pd\n",
    "\n",
    "inner_dict = {\"name\": \"tobin\", \"id\": 123}\n",
    "test_dict = {123: inner_dict}\n",
    "\n",
    "test_df = pd.DataFrame(test_dict)\n",
    "save_excel(test_df.T, \"/Users/tobin/Documents/Programs/datastory/tools/test_save_excel.xlsx\")"
   ]
  },
  {
   "cell_type": "code",
   "execution_count": 3,
   "metadata": {},
   "outputs": [],
   "source": [
    "from utils.excels import each_row"
   ]
  },
  {
   "cell_type": "code",
   "execution_count": 4,
   "metadata": {},
   "outputs": [],
   "source": [
    "topic_user_file='/Users/tobin/Documents/Programs/datastory/tools/analysis_task_20190604193137_956_58.xlsx'\n",
    "topic_user_sheet = pd.read_excel(topic_user_file, sheet_name='模板')"
   ]
  },
  {
   "cell_type": "code",
   "execution_count": 9,
   "metadata": {},
   "outputs": [
    {
     "name": "stdout",
     "output_type": "stream",
     "text": [
      "# start at 1559668744.59189\n",
      "current time: 1559668744.696231\n",
      "current idx: 1000\n",
      "current time: 1559668744.757088\n",
      "current idx: 2000\n",
      "current time: 1559668744.821700\n",
      "current idx: 3000\n",
      "current time: 1559668744.927420\n",
      "current idx: 4000\n",
      "current time: 1559668744.983626\n",
      "current idx: 5000\n",
      "# end at 1559668745.00677\n",
      "total cost: 0.41488\n"
     ]
    }
   ],
   "source": [
    "\n",
    "topic_user_infos = {}\n",
    "def user_parser(idx, key, row):\n",
    "    uid = row['uid']\n",
    "    topic_user_infos[uid] = row\n",
    "    \n",
    "    return True\n",
    "\n",
    "each_row(topic_user_sheet, user_parser, 1000)"
   ]
  },
  {
   "cell_type": "code",
   "execution_count": 10,
   "metadata": {},
   "outputs": [
    {
     "name": "stdout",
     "output_type": "stream",
     "text": [
      "5446\n"
     ]
    }
   ],
   "source": [
    "print(len(topic_user_infos))"
   ]
  },
  {
   "cell_type": "code",
   "execution_count": null,
   "metadata": {},
   "outputs": [],
   "source": []
  },
  {
   "cell_type": "markdown",
   "metadata": {},
   "source": [
    "## elasticsearchs"
   ]
  },
  {
   "cell_type": "markdown",
   "metadata": {},
   "source": [
    "> ES操作工具类"
   ]
  },
  {
   "cell_type": "code",
   "execution_count": 1,
   "metadata": {},
   "outputs": [],
   "source": [
    "from elasticsearch import Elasticsearch\n",
    "\n",
    "proj_es_17 = Elasticsearch([{'host':'proj1', 'port':9200}])"
   ]
  },
  {
   "cell_type": "markdown",
   "metadata": {},
   "source": [
    "1. 索引操作"
   ]
  },
  {
   "cell_type": "code",
   "execution_count": 2,
   "metadata": {},
   "outputs": [],
   "source": [
    "from utils.elasticsearchs import create_index, delete_index"
   ]
  },
  {
   "cell_type": "code",
   "execution_count": 3,
   "metadata": {},
   "outputs": [],
   "source": [
    "index = \"py-index-v5\""
   ]
  },
  {
   "cell_type": "code",
   "execution_count": 4,
   "metadata": {},
   "outputs": [
    {
     "name": "stdout",
     "output_type": "stream",
     "text": [
      "{'acknowledged': True}\n"
     ]
    }
   ],
   "source": [
    "print(delete_index(proj_es_17, index))"
   ]
  },
  {
   "cell_type": "code",
   "execution_count": 5,
   "metadata": {},
   "outputs": [],
   "source": [
    "fields = [\n",
    "    \"id|short\",\n",
    "    \"name|string|words\",\n",
    "    \"desc|string|not_analyzed\",\n",
    "    \"card_num|long\"\n",
    "]\n",
    "doc_type = \"student\""
   ]
  },
  {
   "cell_type": "code",
   "execution_count": 6,
   "metadata": {},
   "outputs": [
    {
     "name": "stdout",
     "output_type": "stream",
     "text": [
      "index body: {\n",
      "  \"mappings\": {\n",
      "    \"student\": {\n",
      "      \"dynamic\": \"strict\",\n",
      "      \"properties\": {\n",
      "        \"card_num\": {\n",
      "          \"type\": \"long\"\n",
      "        },\n",
      "        \"desc\": {\n",
      "          \"doc_values\": true,\n",
      "          \"index\": \"not_analyzed\",\n",
      "          \"type\": \"string\"\n",
      "        },\n",
      "        \"id\": {\n",
      "          \"type\": \"short\"\n",
      "        },\n",
      "        \"name\": {\n",
      "          \"analyzer\": \"words\",\n",
      "          \"type\": \"string\"\n",
      "        }\n",
      "      }\n",
      "    }\n",
      "  },\n",
      "  \"settings\": {\n",
      "    \"number_of_replica\": 1,\n",
      "    \"number_of_shards\": 5\n",
      "  }\n",
      "}\n",
      "{'acknowledged': True}\n"
     ]
    }
   ],
   "source": [
    "print(create_index(proj_es_17, index, doc_type, fields))"
   ]
  },
  {
   "cell_type": "markdown",
   "metadata": {},
   "source": [
    "2. 数据操作"
   ]
  },
  {
   "cell_type": "code",
   "execution_count": 7,
   "metadata": {},
   "outputs": [],
   "source": [
    "from utils.elasticsearchs import insert_one, insert_bulk"
   ]
  },
  {
   "cell_type": "code",
   "execution_count": 8,
   "metadata": {},
   "outputs": [
    {
     "name": "stdout",
     "output_type": "stream",
     "text": [
      "{'_index': 'py-index-v5', '_type': 'student', '_id': '587', '_version': 1, 'created': True}\n"
     ]
    }
   ],
   "source": [
    "data_one = {\n",
    "    \"id\": 587,\n",
    "    \"name\": \"张高峰\",\n",
    "    \"desc\": \"任意用于测试不分词字段\",\n",
    "    \"card_num\": 8755427754613\n",
    "}\n",
    "\n",
    "print(insert_one(proj_es_17, index, doc_type, 587, data_one))"
   ]
  },
  {
   "cell_type": "code",
   "execution_count": 9,
   "metadata": {},
   "outputs": [
    {
     "name": "stdout",
     "output_type": "stream",
     "text": [
      "13\n"
     ]
    }
   ],
   "source": [
    "data_bulk = {}\n",
    "for i in range(13):\n",
    "    temp = {\n",
    "        \"id\": 587 + i,\n",
    "        \"name\": \"张高峰_%d\" % i,\n",
    "        \"desc\": \"任意用于测试不分词字段\",\n",
    "        \"card_num\": 8755427754613 * i\n",
    "    }\n",
    "    if i == 10:\n",
    "        temp[\"card\"] = \"故意检查动态字段问题\"\n",
    "\n",
    "    data_bulk[i + 1] = temp\n",
    "    \n",
    "print(len(data_bulk))"
   ]
  },
  {
   "cell_type": "code",
   "execution_count": 10,
   "metadata": {},
   "outputs": [
    {
     "name": "stdout",
     "output_type": "stream",
     "text": [
      "action size: 13\n"
     ]
    }
   ],
   "source": [
    "success, info = insert_bulk(proj_es_17, index, doc_type, data_bulk)"
   ]
  },
  {
   "cell_type": "code",
   "execution_count": 11,
   "metadata": {
    "scrolled": true
   },
   "outputs": [
    {
     "name": "stdout",
     "output_type": "stream",
     "text": [
      "12\n",
      "[{'index': {'_index': 'py-index-v5', '_type': 'student', '_id': '11', 'status': 400, 'error': 'StrictDynamicMappingException[mapping set to strict, dynamic introduction of [card] within [student] is not allowed]'}}]\n"
     ]
    }
   ],
   "source": [
    "print(success)\n",
    "print(info)"
   ]
  },
  {
   "cell_type": "code",
   "execution_count": null,
   "metadata": {},
   "outputs": [],
   "source": []
  },
  {
   "cell_type": "markdown",
   "metadata": {},
   "source": [
    "## Log"
   ]
  },
  {
   "cell_type": "code",
   "execution_count": 1,
   "metadata": {},
   "outputs": [
    {
     "name": "stdout",
     "output_type": "stream",
     "text": [
      "LOG DIR: C:\\Users\\Evi\\logs\\analysis-tools\\parrot.log\n"
     ]
    }
   ],
   "source": [
    "from utils import Log"
   ]
  },
  {
   "cell_type": "code",
   "execution_count": 4,
   "metadata": {},
   "outputs": [],
   "source": [
    "Log.info(\"testcases\", \"messages\")"
   ]
  },
  {
   "cell_type": "code",
   "execution_count": null,
   "metadata": {},
   "outputs": [],
   "source": []
  }
 ],
 "metadata": {
  "kernelspec": {
   "display_name": "Python 3",
   "language": "python",
   "name": "python3"
  },
  "language_info": {
   "codemirror_mode": {
    "name": "ipython",
    "version": 3
   },
   "file_extension": ".py",
   "mimetype": "text/x-python",
   "name": "python",
   "nbconvert_exporter": "python",
   "pygments_lexer": "ipython3",
   "version": "3.7.3"
  }
 },
 "nbformat": 4,
 "nbformat_minor": 2
}
